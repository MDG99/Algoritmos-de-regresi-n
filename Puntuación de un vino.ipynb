{
 "cells": [
  {
   "cell_type": "markdown",
   "id": "85f16adf",
   "metadata": {},
   "source": [
    "# Problema de puntuación de un vino utilizando la librería de Sklearn\n",
    "Lo primero que se tiene que realizar es importar todas las librerías para la manipulación, visualización y entrenamiento del modelo, así mismo, será necesario realizar una lectura del archivo que contenga los datos del problema y una primera revisión."
   ]
  },
  {
   "cell_type": "code",
   "execution_count": 1,
   "id": "26bfdc28",
   "metadata": {},
   "outputs": [
    {
     "name": "stdout",
     "output_type": "stream",
     "text": [
      "      fixed acidity  volatile acidity  citric acid  residual sugar  chlorides  \\\n",
      "0               7.4             0.700         0.00             1.9      0.076   \n",
      "1               7.8             0.880         0.00             2.6      0.098   \n",
      "2               7.8             0.760         0.04             2.3      0.092   \n",
      "3              11.2             0.280         0.56             1.9      0.075   \n",
      "4               7.4             0.700         0.00             1.9      0.076   \n",
      "...             ...               ...          ...             ...        ...   \n",
      "1594            6.2             0.600         0.08             2.0      0.090   \n",
      "1595            5.9             0.550         0.10             2.2      0.062   \n",
      "1596            6.3             0.510         0.13             2.3      0.076   \n",
      "1597            5.9             0.645         0.12             2.0      0.075   \n",
      "1598            6.0             0.310         0.47             3.6      0.067   \n",
      "\n",
      "      free sulfur dioxide  total sulfur dioxide  density    pH  sulphates  \\\n",
      "0                    11.0                  34.0  0.99780  3.51       0.56   \n",
      "1                    25.0                  67.0  0.99680  3.20       0.68   \n",
      "2                    15.0                  54.0  0.99700  3.26       0.65   \n",
      "3                    17.0                  60.0  0.99800  3.16       0.58   \n",
      "4                    11.0                  34.0  0.99780  3.51       0.56   \n",
      "...                   ...                   ...      ...   ...        ...   \n",
      "1594                 32.0                  44.0  0.99490  3.45       0.58   \n",
      "1595                 39.0                  51.0  0.99512  3.52       0.76   \n",
      "1596                 29.0                  40.0  0.99574  3.42       0.75   \n",
      "1597                 32.0                  44.0  0.99547  3.57       0.71   \n",
      "1598                 18.0                  42.0  0.99549  3.39       0.66   \n",
      "\n",
      "      alcohol  quality  \n",
      "0         9.4        5  \n",
      "1         9.8        5  \n",
      "2         9.8        5  \n",
      "3         9.8        6  \n",
      "4         9.4        5  \n",
      "...       ...      ...  \n",
      "1594     10.5        5  \n",
      "1595     11.2        6  \n",
      "1596     11.0        6  \n",
      "1597     10.2        5  \n",
      "1598     11.0        6  \n",
      "\n",
      "[1599 rows x 12 columns]\n"
     ]
    }
   ],
   "source": [
    "#Importación de librerías y funciones necesarias\n",
    "import numpy as np\n",
    "import pandas as pd\n",
    "import seaborn as sns\n",
    "import matplotlib.pyplot as plt\n",
    "\n",
    "from sklearn.linear_model import LinearRegression\n",
    "from sklearn.model_selection import train_test_split\n",
    "\n",
    "#Lectura de los archivos\n",
    "path = \"dataset/\"\n",
    "red_file = \"winequality-red.csv\"\n",
    "white_file = \"winequality-white.csv\"\n",
    "\n",
    "red_wine = pd.read_csv(path + red_file, sep = ';')\n",
    "white_wine = pd.read_csv(path + white_file, sep = ';')\n",
    "\n",
    "print(red_wine)"
   ]
  },
  {
   "cell_type": "markdown",
   "id": "5b7d9822",
   "metadata": {},
   "source": [
    "Haciendo una revisón rápida de las tablas obtenidas de la lectura del archivo *.csv* notamos que cada vino cuenta con 12 columnas: \n",
    "- Fixed acidity:\n",
    "- Volatile acidity\n",
    "- Citirc acid\n",
    "- Residual sugar\n",
    "- Chlorides\n",
    "- Free sulfur dioxide\n",
    "- Total sulfur dioxide\n",
    "- Density\n",
    "- pH\n",
    "- Sulphates\n",
    "- Alcohol\n",
    "- Quality\n",
    "\n",
    "\n",
    "De este análisis rápido se intentará sacar una relación de las primeras 11 variables con la última, además, debido a que todos son datos numéricos se podrán usar los valores sacados del documento de manera *cruda*"
   ]
  },
  {
   "cell_type": "markdown",
   "id": "e9c6e20e",
   "metadata": {},
   "source": [
    "## Caso 1: Vino rojo"
   ]
  },
  {
   "cell_type": "code",
   "execution_count": 43,
   "id": "b01112a0",
   "metadata": {},
   "outputs": [
    {
     "name": "stdout",
     "output_type": "stream",
     "text": [
      "coeficientes obtenidos del entrenamiento para el caso del vino rojo\n",
      "\n",
      "fixed acidity: 0.0290763016263296\n",
      "volatile acidity: -1.1831803768691957\n",
      "citric acid: -0.27601213687472875\n",
      "residual sugar: 0.012420332663150888\n",
      "chlorides: -1.8166063756932151\n",
      "free sulfur dioxide: 0.002517786112030962\n",
      "total sulfur dioxide: -0.002902224686822219\n",
      "density: -1.662153109462873\n",
      "pH: -0.424996183992045\n",
      "sulphates: 0.8745938715081673\n",
      "alcohol: 0.30538250010194173\n"
     ]
    }
   ],
   "source": [
    "#Armamos los vectores con los campos que se utilizarán\n",
    "x1 = np.array(red_wine[['fixed acidity', 'volatile acidity', 'citric acid', 'residual sugar', 'chlorides',\n",
    "                        'free sulfur dioxide', 'total sulfur dioxide', 'density', 'pH', 'sulphates', 'alcohol']], dtype=float)\n",
    "y1 = np.array(red_wine[['quality']], dtype=np.float)\n",
    "\n",
    "#Dividimos los datos entre datos de entrenamiento y de validación\n",
    "ts1 = 0.20 #Porcentaje de prueba\n",
    "seed1 = 101 #Semilla para los datos aleatorios\n",
    "x1_train, x1_test, y1_train, y1_test = train_test_split(x1, y1, test_size=ts1, random_state=seed1)\n",
    "\n",
    "#Entrenamos\n",
    "w1 = LinearRegression().fit(x1_train, y1_train)\n",
    "\n",
    "print('coeficientes obtenidos del entrenamiento para el caso del vino rojo\\n')\n",
    "\n",
    "for i in  range(np.shape(w1.coef_)[1]):\n",
    "    print(f'{red_wine.columns[i]}: {w1.coef_[0, i]}')\n"
   ]
  },
  {
   "cell_type": "markdown",
   "id": "0197617f",
   "metadata": {},
   "source": [
    "Una vez obtenidos los coeficientes y al darnos cuenta que todos se encuentran dentro del mismo orden de magnitud, no será necesario aplicar ningún método de normalización. Únicamente procedemos a verificar que existe una buena correlación entre las calidades predichas y las reales."
   ]
  },
  {
   "cell_type": "code",
   "execution_count": 44,
   "id": "8b129c63",
   "metadata": {},
   "outputs": [
    {
     "name": "stdout",
     "output_type": "stream",
     "text": [
      "Coeficiente de correlación: 0.24005809888777474\n"
     ]
    },
    {
     "data": {
      "image/png": "[encoded data removed]",
      "text/plain": [
       "<Figure size 432x288 with 1 Axes>"
      ]
     },
     "metadata": {
      "needs_background": "light"
     },
     "output_type": "display_data"
    }
   ],
   "source": [
    "y1_pred = w1.predict(x1_test)\n",
    "print(f'Coeficiente de correlación: {w1.score(x1_test, y1_test)}')\n",
    "plt.scatter(y1_pred, y1_test)\n",
    "plt.show()"
   ]
  },
  {
   "cell_type": "markdown",
   "id": "98c331ac",
   "metadata": {},
   "source": [
    "Finalemente, procederemos a realizar una inferencia con el modelo obtenido:"
   ]
  },
  {
   "cell_type": "code",
   "execution_count": 51,
   "id": "3caa57ec",
   "metadata": {},
   "outputs": [
    {
     "name": "stdout",
     "output_type": "stream",
     "text": [
      "La puntuación estimada es: 5.049293410003569\n",
      "\n",
      "La puntuación real es: 5\n"
     ]
    }
   ],
   "source": [
    "#Parámetros\n",
    "\n",
    "w1_1 = 7.4 #fixed acidity\n",
    "w1_2 = 0.7 #Volatile acidity\n",
    "w1_3 = 0 #Citirc acid\n",
    "w1_4 = 1.9 #Residual sugar\n",
    "w1_5 = 0.076 #Chlorides\n",
    "w1_6 = 11 #Free sulfur dioxide\n",
    "w1_7 = 34 #Total sulfur dioxide\n",
    "w1_8 = 0.9978 #Density\n",
    "w1_9 = 3.51 #pH\n",
    "w1_10 = 0.56 #Sulphates \n",
    "w1_11 = 9.4 #Alcohol\n",
    "y1_real = 5 #Calidad\n",
    "\n",
    "w1_inf= np.array([[w1_1, w1_2, w1_3, w1_4, w1_5, w1_6, w1_7, w1_8, w1_9, w1_10, w1_11]], dtype=float)\n",
    "\n",
    "y1_inf = w1.predict(w1_inf)\n",
    "print(f\"La puntuación estimada es: {y1_inf[0, 0]}\\n\")\n",
    "print(f\"La puntuación real es: {y1_real}\")"
   ]
  },
  {
   "cell_type": "markdown",
   "id": "c9ab8df7",
   "metadata": {},
   "source": [
    "Como se puede ver, el resultado es bueno, sin embargo la gráfica obtenido no lo fue ya que la puntuación se trata de una cantidad discreta, se pudiera optar por realizar un redondeo o simplemente tener en consideración esta limitante."
   ]
  },
  {
   "cell_type": "markdown",
   "id": "cb120668",
   "metadata": {},
   "source": [
    "## Caso 2: Vino blanco"
   ]
  },
  {
   "cell_type": "code",
   "execution_count": 39,
   "id": "4d1dab4c",
   "metadata": {},
   "outputs": [
    {
     "name": "stdout",
     "output_type": "stream",
     "text": [
      "coeficientes obtenidos del entrenamiento para el caso del vino blanco\n",
      "\n",
      "fixed acidity: 0.057045807112963844\n",
      "volatile acidity: -1.7908985294295212\n",
      "citric acid: 0.03764342993766864\n",
      "residual sugar: 0.08099217759237978\n",
      "chlorides: -0.2309716155914587\n",
      "free sulfur dioxide: 0.004371043746924708\n",
      "total sulfur dioxide: -0.00033728562735402257\n",
      "density: -148.52051552984753\n",
      "pH: 0.6252147546988374\n",
      "sulphates: 0.6689112913071013\n",
      "alcohol: 0.19781696812086544\n"
     ]
    }
   ],
   "source": [
    "#Armamos los vectores con los campos que se utilizarán\n",
    "x2 = np.array(white_wine[['fixed acidity', 'volatile acidity', 'citric acid', 'residual sugar', 'chlorides',\n",
    "                        'free sulfur dioxide', 'total sulfur dioxide', 'density', 'pH', 'sulphates', 'alcohol']], dtype=float)\n",
    "y2 = np.array(white_wine[['quality']], dtype=np.float)\n",
    "\n",
    "#Dividimos los datos entre datos de entrenamiento y de validación\n",
    "ts2 = 0.20 #Porcentaje de prueba\n",
    "seed2 = 101 #Semilla para los datos aleatorios\n",
    "x2_train, x2_test, y2_train, y2_test = train_test_split(x2, y2, test_size=ts2, random_state=seed2)\n",
    "\n",
    "#Entrenamos\n",
    "w2 = LinearRegression().fit(x2_train, y2_train)\n",
    "\n",
    "print('coeficientes obtenidos del entrenamiento para el caso del vino blanco\\n')\n",
    "\n",
    "for j in  range(np.shape(w2.coef_)[1]):\n",
    "    print(f'{white_wine.columns[j]}: {w2.coef_[0, j]}')\n",
    "    "
   ]
  },
  {
   "cell_type": "code",
   "execution_count": 40,
   "id": "0352922e",
   "metadata": {},
   "outputs": [
    {
     "name": "stdout",
     "output_type": "stream",
     "text": [
      "Coeficiente de correlación: 0.27300766003955523\n"
     ]
    },
    {
     "data": {
      "image/png": "[encoded data removed]",
      "text/plain": [
       "<Figure size 432x288 with 1 Axes>"
      ]
     },
     "metadata": {
      "needs_background": "light"
     },
     "output_type": "display_data"
    }
   ],
   "source": [
    "y2_pred = w2.predict(x2_test)\n",
    "print(f'Coeficiente de correlación: {w2.score(x2_test, y2_test)}')\n",
    "plt.scatter(y2_pred, y2_test)\n",
    "plt.show()"
   ]
  },
  {
   "cell_type": "code",
   "execution_count": 54,
   "id": "0819dbfa",
   "metadata": {},
   "outputs": [
    {
     "name": "stdout",
     "output_type": "stream",
     "text": [
      "La puntuación estimada es: 6.29429554276237\n",
      "\n",
      "La puntuación real es: 7\n",
      "\n"
     ]
    }
   ],
   "source": [
    "#Parámetros\n",
    "\n",
    "w2_1 = 6.6 #fixed acidity\n",
    "w2_2 = 0.17 #Volatile acidity\n",
    "w2_3 = 0.38 #Citirc acid\n",
    "w2_4 = 1.5 #Residual sugar\n",
    "w2_5 = 0.032 #Chlorides\n",
    "w2_6 = 28 #Free sulfur dioxide\n",
    "w2_7 = 112 #Total sulfur dioxide\n",
    "w2_8 = 0.9914 #Density\n",
    "w2_9 = 3.25 #pH\n",
    "w2_10 = 0.55 #Sulphates \n",
    "w2_11 = 11.4 #Alcohol\n",
    "y2_real = 7 #Calidad\n",
    "\n",
    "w2_inf= np.array([[w2_1, w2_2, w2_3, w2_4, w2_5, w2_6, w2_7, w2_8, w2_9, w2_10, w2_11]], dtype=float)\n",
    "\n",
    "y2_inf = w2.predict(w2_inf)\n",
    "print(f\"La puntuación estimada es: {y2_inf[0,0]}\\n\")\n",
    "print(f\"La puntuación real es: {y2_real}\\n\")"
   ]
  }
 ],
 "metadata": {
  "kernelspec": {
   "display_name": "Machine Learning 2021",
   "language": "python",
   "name": "mlenv"
  },
  "language_info": {
   "codemirror_mode": {
    "name": "ipython",
    "version": 3
   },
   "file_extension": ".py",
   "mimetype": "text/x-python",
   "name": "python",
   "nbconvert_exporter": "python",
   "pygments_lexer": "ipython3",
   "version": "3.6.3"
  }
 },
 "nbformat": 4,
 "nbformat_minor": 5
}
