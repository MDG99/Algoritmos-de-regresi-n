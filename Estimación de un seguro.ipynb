{
 "cells": [
  {
   "cell_type": "markdown",
   "id": "83988e91",
   "metadata": {},
   "source": [
    "# Solución al problema del costo de un seguro"
   ]
  },
  {
   "cell_type": "markdown",
   "id": "6863ea22",
   "metadata": {},
   "source": [
    "Primeramente se realizará un preprocesamiento de la información, es decir, se realizará una lectura del archivo .csv y lso datos se guardarán en forma de un arreglo para su posterior uso."
   ]
  },
  {
   "cell_type": "code",
   "execution_count": 31,
   "id": "d29c6e94",
   "metadata": {
    "scrolled": true
   },
   "outputs": [
    {
     "name": "stdout",
     "output_type": "stream",
     "text": [
      "      age     sex     bmi  children smoker     region      charges\n",
      "0      19  female  27.900         0    yes  southwest  16884.92400\n",
      "1      18    male  33.770         1     no  southeast   1725.55230\n",
      "2      28    male  33.000         3     no  southeast   4449.46200\n",
      "3      33    male  22.705         0     no  northwest  21984.47061\n",
      "4      32    male  28.880         0     no  northwest   3866.85520\n",
      "...   ...     ...     ...       ...    ...        ...          ...\n",
      "1333   50    male  30.970         3     no  northwest  10600.54830\n",
      "1334   18  female  31.920         0     no  northeast   2205.98080\n",
      "1335   18  female  36.850         0     no  southeast   1629.83350\n",
      "1336   21  female  25.800         0     no  southwest   2007.94500\n",
      "1337   61  female  29.070         0    yes  northwest  29141.36030\n",
      "\n",
      "[1338 rows x 7 columns]\n"
     ]
    }
   ],
   "source": [
    "import numpy as np\n",
    "import pandas as pd\n",
    "\n",
    "path = \"dataset/\"\n",
    "file = \"insurance.csv\"\n",
    "\n",
    "insurance_file = pd.read_csv(path + file)\n",
    "\n",
    "print(insurance_file)"
   ]
  },
  {
   "cell_type": "markdown",
   "id": "91a32832",
   "metadata": {},
   "source": [
    "De la lectura e impresión de los datos del archivo *csv* es posible notar que cuenta con 7 columnas: \n",
    "- Age\n",
    "- Sex\n",
    "- bmi\n",
    "- Children\n",
    "- Smoker\n",
    "- Region\n",
    "- Charges\n",
    "\n",
    "Los datos se usarán crudos, a excepción de la columna *\"Smoker\"* la cual será cambiada de \"yes\" y \"no\" a True y False, respetivamente, para un mejor procesamiento (**NOTA: VERIFICAR SI ESTO REALMENTE VALE LA PENA**). El siguiente paso será pasar los datos leidos con la libreria *pandas* del tipos Series a listas, de ese modo se manipulará de una forma cómoda en los siguientes pasos."
   ]
  },
  {
   "cell_type": "code",
   "execution_count": 36,
   "id": "49ece415",
   "metadata": {},
   "outputs": [],
   "source": [
    "#Pasando los datos a listas para una manipulación posterior\n",
    "age = insurance_file[\"age\"].tolist()\n",
    "sex = [(1.0, 0.0)[\"female\"==s] for s in insurance_file[\"sex\"].tolist()]\n",
    "bmi = insurance_file[\"bmi\"].tolist()\n",
    "smoker = [(1.0, 0.0)[\"yes\"==s] for s in insurance_file[\"smoker\"].tolist()]\n",
    "region = insurance_file[\"region\"].tolist()\n",
    "charges = insurance_file[\"charges\"].tolist()\n"
   ]
  },
  {
   "cell_type": "markdown",
   "id": "de44c155",
   "metadata": {},
   "source": [
    "Seguidamente, se procederá a realizar una estimación mediante la fórmula de la normal \n",
    "\n",
    "\n",
    "**VER SI EL TÉRMINO INDEPENDIENTE ES NECESARIO**\n",
    "\n",
    "\n",
    "**FALTA REALIZAR UN PREPROCESAMIENTO DE LA COLUMNA REGIÓN**"
   ]
  },
  {
   "cell_type": "code",
   "execution_count": 55,
   "id": "0927011e",
   "metadata": {},
   "outputs": [
    {
     "name": "stdout",
     "output_type": "stream",
     "text": [
      "Las dimensiones de x son: (1338, 4)\n",
      "Los pesos hallados son: [   313.4412873     560.34043337    586.23860306 -22152.25908289]\n"
     ]
    }
   ],
   "source": [
    "#Sacamos los valores que nos interesan del dataset en forma de arreglo\n",
    "qty = np.shape(age) # Término independiente \n",
    "#x = np.array([age, sex, bmi, smoker, np.ones(qty)], dtype=float).T #Combinación de 5 columnas (age, sex, bmi, smoker y region)\n",
    "x = np.array([age, sex, bmi, smoker], dtype=float).T #Combinación de 5 columnas (age, sex, bmi, smoker y region)\n",
    "y = np.array(charges)\n",
    "\n",
    "#Ecuación Normal para hallar los pesos\n",
    "w = np.linalg.inv(x.T @ x) @ x.T @ y\n",
    "\n",
    "print(f\"Las dimensiones de x son: {np.shape(x)}\")\n",
    "print(f\"Los pesos hallados son: {w}\")"
   ]
  },
  {
   "cell_type": "code",
   "execution_count": null,
   "id": "b4bea8b9",
   "metadata": {},
   "outputs": [],
   "source": []
  }
 ],
 "metadata": {
  "kernelspec": {
   "display_name": "Machine Learning 2021",
   "language": "python",
   "name": "mlenv"
  },
  "language_info": {
   "codemirror_mode": {
    "name": "ipython",
    "version": 3
   },
   "file_extension": ".py",
   "mimetype": "text/x-python",
   "name": "python",
   "nbconvert_exporter": "python",
   "pygments_lexer": "ipython3",
   "version": "3.6.3"
  }
 },
 "nbformat": 4,
 "nbformat_minor": 5
}
